{
 "cells": [
  {
   "metadata": {},
   "cell_type": "markdown",
   "source": "# Introduction to \"R\" in Python",
   "id": "5339c37fd1e231ab"
  },
  {
   "cell_type": "code",
   "id": "initial_id",
   "metadata": {
    "collapsed": true,
    "ExecuteTime": {
     "end_time": "2025-04-08T10:41:15.087566Z",
     "start_time": "2025-04-08T10:41:14.110849Z"
    }
   },
   "source": [
    "import statsmodels.api as sm\n",
    "import statsmodels.formula.api as smf\n",
    "import numpy as np\n",
    "import polars as pl\n",
    "import matplotlib.pyplot as plt\n",
    "\n",
    "# Load USArrests dataset\n",
    "df = sm.datasets.get_rdataset(\"USArrests\").data\n",
    "df = pl.DataFrame(df)\n",
    "\n",
    "df"
   ],
   "outputs": [
    {
     "data": {
      "text/plain": [
       "shape: (50, 4)\n",
       "┌────────┬─────────┬──────────┬──────┐\n",
       "│ Murder ┆ Assault ┆ UrbanPop ┆ Rape │\n",
       "│ ---    ┆ ---     ┆ ---      ┆ ---  │\n",
       "│ f64    ┆ i64     ┆ i64      ┆ f64  │\n",
       "╞════════╪═════════╪══════════╪══════╡\n",
       "│ 13.2   ┆ 236     ┆ 58       ┆ 21.2 │\n",
       "│ 10.0   ┆ 263     ┆ 48       ┆ 44.5 │\n",
       "│ 8.1    ┆ 294     ┆ 80       ┆ 31.0 │\n",
       "│ 8.8    ┆ 190     ┆ 50       ┆ 19.5 │\n",
       "│ 9.0    ┆ 276     ┆ 91       ┆ 40.6 │\n",
       "│ …      ┆ …       ┆ …        ┆ …    │\n",
       "│ 8.5    ┆ 156     ┆ 63       ┆ 20.7 │\n",
       "│ 4.0    ┆ 145     ┆ 73       ┆ 26.2 │\n",
       "│ 5.7    ┆ 81      ┆ 39       ┆ 9.3  │\n",
       "│ 2.6    ┆ 53      ┆ 66       ┆ 10.8 │\n",
       "│ 6.8    ┆ 161     ┆ 60       ┆ 15.6 │\n",
       "└────────┴─────────┴──────────┴──────┘"
      ],
      "text/html": [
       "<div><style>\n",
       ".dataframe > thead > tr,\n",
       ".dataframe > tbody > tr {\n",
       "  text-align: right;\n",
       "  white-space: pre-wrap;\n",
       "}\n",
       "</style>\n",
       "<small>shape: (50, 4)</small><table border=\"1\" class=\"dataframe\"><thead><tr><th>Murder</th><th>Assault</th><th>UrbanPop</th><th>Rape</th></tr><tr><td>f64</td><td>i64</td><td>i64</td><td>f64</td></tr></thead><tbody><tr><td>13.2</td><td>236</td><td>58</td><td>21.2</td></tr><tr><td>10.0</td><td>263</td><td>48</td><td>44.5</td></tr><tr><td>8.1</td><td>294</td><td>80</td><td>31.0</td></tr><tr><td>8.8</td><td>190</td><td>50</td><td>19.5</td></tr><tr><td>9.0</td><td>276</td><td>91</td><td>40.6</td></tr><tr><td>&hellip;</td><td>&hellip;</td><td>&hellip;</td><td>&hellip;</td></tr><tr><td>8.5</td><td>156</td><td>63</td><td>20.7</td></tr><tr><td>4.0</td><td>145</td><td>73</td><td>26.2</td></tr><tr><td>5.7</td><td>81</td><td>39</td><td>9.3</td></tr><tr><td>2.6</td><td>53</td><td>66</td><td>10.8</td></tr><tr><td>6.8</td><td>161</td><td>60</td><td>15.6</td></tr></tbody></table></div>"
      ]
     },
     "execution_count": 1,
     "metadata": {},
     "output_type": "execute_result"
    }
   ],
   "execution_count": 1
  },
  {
   "metadata": {},
   "cell_type": "markdown",
   "source": "## 1. Identify the variables and determine the total number of observations",
   "id": "4dc6b51c540c77f"
  },
  {
   "metadata": {
    "ExecuteTime": {
     "end_time": "2025-04-08T10:41:15.117476Z",
     "start_time": "2025-04-08T10:41:15.115484Z"
    }
   },
   "cell_type": "code",
   "source": [
    "print(\"Variables: \\n\\t{}\".format(df.columns))\n",
    "print(\"Number of observations: {}\".format(df.shape[0]))\n"
   ],
   "id": "4521049001344bbb",
   "outputs": [
    {
     "name": "stdout",
     "output_type": "stream",
     "text": [
      "Variables: \n",
      "\t['Murder', 'Assault', 'UrbanPop', 'Rape']\n",
      "Number of observations: 50\n"
     ]
    }
   ],
   "execution_count": 2
  },
  {
   "metadata": {},
   "cell_type": "markdown",
   "source": "## 2. Compute the mean number of assaults and the mean \\# of murders per 100,000 people\n",
   "id": "8348446dcdbc3440"
  },
  {
   "metadata": {
    "ExecuteTime": {
     "end_time": "2025-04-08T10:41:15.145538Z",
     "start_time": "2025-04-08T10:41:15.143413Z"
    }
   },
   "cell_type": "code",
   "source": [
    "print(\"Mean assaults: {:.2f}\".format(df[\"Assault\"].mean()))\n",
    "print(\"Mean murders per 100,000 people: {:.2f}\".format(df[\"Murder\"].mean()))\n"
   ],
   "id": "10be79493d431b19",
   "outputs": [
    {
     "name": "stdout",
     "output_type": "stream",
     "text": [
      "Mean assaults: 170.76\n",
      "Mean murders per 100,000 people: 7.79\n"
     ]
    }
   ],
   "execution_count": 3
  },
  {
   "metadata": {},
   "cell_type": "markdown",
   "source": "## 3. Determine the mean number of murders for states where more than 65% of the population lives in urban areas\n",
   "id": "7a8e112d2d854be4"
  },
  {
   "metadata": {
    "ExecuteTime": {
     "end_time": "2025-04-08T10:41:15.172751Z",
     "start_time": "2025-04-08T10:41:15.169111Z"
    }
   },
   "cell_type": "code",
   "source": [
    "subset_df = df.filter(\n",
    "    pl.col(\"UrbanPop\") > 65\n",
    ")\n",
    "print(\"Mean number of murders in subset: {:.2f}\".format(subset_df[\"Murder\"].mean()))\n"
   ],
   "id": "322629eccaa0ab60",
   "outputs": [
    {
     "name": "stdout",
     "output_type": "stream",
     "text": [
      "Mean number of murders in subset: 7.83\n"
     ]
    }
   ],
   "execution_count": 4
  },
  {
   "metadata": {},
   "cell_type": "markdown",
   "source": [
    "## 4. Conduct two simple OLS regressions\n",
    "\n",
    "In the first regression, use “Murder” as the dependent variable\n",
    "and “UrbanPop” as the independent variable. In the second regression, add “Assault” and “Rape” as\n",
    "additional independent variables. Display both regressions side-by-side in a single regression table.\n",
    "\n"
   ],
   "id": "a4cd41514566c924"
  },
  {
   "metadata": {
    "ExecuteTime": {
     "end_time": "2025-04-08T10:45:06.919466Z",
     "start_time": "2025-04-08T10:45:06.890250Z"
    }
   },
   "cell_type": "code",
   "source": [
    "reg1 = smf.ols(\n",
    "    formula='Murder ~ UrbanPop', data=df.to_pandas()\n",
    ").fit()\n",
    "reg1_str = reg1.summary()\n",
    "# print(str(reg1.summary()))\n",
    "\n",
    "reg2 = smf.ols(\n",
    "    formula='Murder ~ UrbanPop + Assault', data=df.to_pandas()\n",
    ").fit()\n",
    "reg2_str = reg2.summary()\n",
    "\n",
    "reg1_str + reg2_str\n"
   ],
   "id": "aecc7ca46f42cfea",
   "outputs": [
    {
     "ename": "TypeError",
     "evalue": "unsupported operand type(s) for +: 'Summary' and 'Summary'",
     "output_type": "error",
     "traceback": [
      "\u001B[0;31m---------------------------------------------------------------------------\u001B[0m",
      "\u001B[0;31mTypeError\u001B[0m                                 Traceback (most recent call last)",
      "Cell \u001B[0;32mIn[12], line 12\u001B[0m\n\u001B[1;32m      7\u001B[0m reg2 \u001B[38;5;241m=\u001B[39m smf\u001B[38;5;241m.\u001B[39mols(\n\u001B[1;32m      8\u001B[0m     formula\u001B[38;5;241m=\u001B[39m\u001B[38;5;124m'\u001B[39m\u001B[38;5;124mMurder ~ UrbanPop + Assault\u001B[39m\u001B[38;5;124m'\u001B[39m, data\u001B[38;5;241m=\u001B[39mdf\u001B[38;5;241m.\u001B[39mto_pandas()\n\u001B[1;32m      9\u001B[0m )\u001B[38;5;241m.\u001B[39mfit()\n\u001B[1;32m     10\u001B[0m reg2_str \u001B[38;5;241m=\u001B[39m reg2\u001B[38;5;241m.\u001B[39msummary()\n\u001B[0;32m---> 12\u001B[0m \u001B[43mreg1_str\u001B[49m\u001B[43m \u001B[49m\u001B[38;5;241;43m+\u001B[39;49m\u001B[43m \u001B[49m\u001B[43mreg2_str\u001B[49m\n",
      "\u001B[0;31mTypeError\u001B[0m: unsupported operand type(s) for +: 'Summary' and 'Summary'"
     ]
    }
   ],
   "execution_count": 12
  }
 ],
 "metadata": {
  "kernelspec": {
   "display_name": "Python 3",
   "language": "python",
   "name": "python3"
  },
  "language_info": {
   "codemirror_mode": {
    "name": "ipython",
    "version": 2
   },
   "file_extension": ".py",
   "mimetype": "text/x-python",
   "name": "python",
   "nbconvert_exporter": "python",
   "pygments_lexer": "ipython2",
   "version": "2.7.6"
  }
 },
 "nbformat": 4,
 "nbformat_minor": 5
}
