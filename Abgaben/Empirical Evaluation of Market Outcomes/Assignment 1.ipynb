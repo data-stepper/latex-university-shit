{
 "cells": [
  {
   "metadata": {},
   "cell_type": "markdown",
   "source": "## 1. Two-Stage Least Squares",
   "id": "5f6309daae14e250"
  },
  {
   "cell_type": "code",
   "id": "initial_id",
   "metadata": {
    "collapsed": true,
    "ExecuteTime": {
     "end_time": "2025-05-02T09:44:27.404558Z",
     "start_time": "2025-05-02T09:44:27.263021Z"
    }
   },
   "source": [
    "from typing import Tuple\n",
    "from dataclasses import dataclass\n",
    "\n",
    "import numpy as np\n",
    "from scipy.stats import bootstrap\n",
    "\n",
    "\n",
    "def least_squares(y: np.ndarray, x: np.ndarray) -> Tuple[float, float]:\n",
    "    assert y.ndim == 1\n",
    "    assert x.ndim == 1\n",
    "\n",
    "    x_ = np.stack((np.ones_like(x), x), axis=1)  # Shape: (N, 2)\n",
    "    xtx = np.dot(x_.T, x_)  # Shape: (2, 2)\n",
    "    xty = np.dot(x_.T, y)  # Shape: (2,)\n",
    "\n",
    "    beta = np.linalg.solve(xtx, xty)  # Shape: (2,)\n",
    "\n",
    "    return beta[0], beta[1]  # Intercept, slope\n",
    "\n",
    "\n",
    "@dataclass\n",
    "class DGP:\n",
    "    N: int = 1_000\n",
    "    number_of_simulations: int = 1_000\n",
    "\n",
    "    # Correlations\n",
    "    rho_xu: float = 0.5\n",
    "    rho_zx: float = 0.4\n",
    "    rho_zq: float = 0.4\n",
    "\n",
    "    true_beta_0: float = 2.0\n",
    "    true_beta_1: float = 5.0\n",
    "\n",
    "    def __call__(self) -> np.ndarray:\n",
    "        \"\"\"Runs the simulation, returns the estimates of beta_1.\"\"\"\n",
    "        estimates = np.full(shape=(self.number_of_simulations,), fill_value=np.nan)\n",
    "\n",
    "        # Generate the data\n",
    "        # NOTE: Keeping the full shape can be memory intensive for large N or number_of_simulations\n",
    "        u = np.random.standard_normal(size=(self.number_of_simulations, self.N))\n",
    "        x = self.rho_xu * u + np.random.standard_normal(size=(self.number_of_simulations, self.N))\n",
    "        q = np.random.standard_normal(size=(self.number_of_simulations, self.N))\n",
    "        z = self.rho_zx * x + self.rho_zq * q + np.random.standard_normal(size=(self.number_of_simulations, self.N))\n",
    "\n",
    "        y = self.true_beta_0 + self.true_beta_1 * x + u + 2 * q\n",
    "\n",
    "        for i in range(self.number_of_simulations):\n",
    "            # Run the two-stage least squares regression\n",
    "            # First stage: regress x on z\n",
    "            b0, b1 = least_squares(x[i], z[i])\n",
    "            x_hat = b0 + b1 * z[i]\n",
    "\n",
    "            # Second stage: regress y on x_hat\n",
    "            b0, b1 = least_squares(y[i], x_hat)\n",
    "            estimates[i] = b1\n",
    "\n",
    "        return estimates\n",
    "\n",
    "\n",
    "dgp = DGP()\n",
    "estimates = dgp()\n",
    "\n",
    "avg_beta_1 = np.mean(estimates)\n",
    "bias = avg_beta_1 - dgp.true_beta_1\n",
    "\n",
    "print(\"Mean of beta_1 estimates: {:.4f}\".format(avg_beta_1))\n",
    "print(\"Bias of beta_1 estimates: {:.4f}\".format(bias))\n",
    "\n",
    "bs = bootstrap(data=[estimates - dgp.true_beta_1], statistic=np.mean)\n",
    "low, high = bs.confidence_interval\n",
    "print(\"Bias 95% CI: [{:.4f}, {:.4f}]\".format(low, high))\n",
    "\n",
    "print(\"True beta_1: {:.4f}\".format(dgp.true_beta_1))\n"
   ],
   "outputs": [
    {
     "name": "stdout",
     "output_type": "stream",
     "text": [
      "Mean of beta_1 estimates: 7.0189\n",
      "Bias of beta_1 estimates: 2.0189\n",
      "Bias 95% CI: [2.0053, 2.0325]\n",
      "True beta_1: 5.0000\n"
     ]
    }
   ],
   "execution_count": 21
  }
 ],
 "metadata": {
  "kernelspec": {
   "display_name": "Python 3",
   "language": "python",
   "name": "python3"
  },
  "language_info": {
   "codemirror_mode": {
    "name": "ipython",
    "version": 2
   },
   "file_extension": ".py",
   "mimetype": "text/x-python",
   "name": "python",
   "nbconvert_exporter": "python",
   "pygments_lexer": "ipython2",
   "version": "2.7.6"
  }
 },
 "nbformat": 4,
 "nbformat_minor": 5
}
